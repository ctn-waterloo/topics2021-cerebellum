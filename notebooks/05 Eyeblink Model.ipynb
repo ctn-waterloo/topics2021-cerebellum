{
 "cells": [
  {
   "cell_type": "code",
   "execution_count": null,
   "metadata": {},
   "outputs": [],
   "source": [
    "%matplotlib inline\n",
    "import matplotlib.pyplot as plt\n",
    "import numpy as np\n",
    "import pytry\n",
    "import sys\n",
    "sys.path.append('../model')\n",
    "from blink_trial import BlinkTrial"
   ]
  },
  {
   "cell_type": "code",
   "execution_count": null,
   "metadata": {},
   "outputs": [],
   "source": [
    "# IMPORTANT. Set these parameters.\n",
    "n_granule = 10000\n",
    "\n",
    "# Uncomment these for a quick test run\n",
    "#n_granule = 100"
   ]
  },
  {
   "cell_type": "code",
   "execution_count": null,
   "metadata": {},
   "outputs": [],
   "source": [
    "for i in range(6):\n",
    "    BlinkTrial().run(\n",
    "         n_trials=500,\n",
    "         seed=3924 + i,\n",
    "         learning_rate=0.00018,\n",
    "         tau=60e-3,\n",
    "         tau_error=0.1,\n",
    "         tau_pre=75e-3,\n",
    "         t_delay=0.15,\n",
    "         mode='two_populations_dales_principle',\n",
    "         use_spatial_constraints=True,\n",
    "         n_pcn_golgi_convergence=100,\n",
    "         n_pcn_granule_convergence=5,\n",
    "         n_granule_golgi_convergence=100,\n",
    "         n_golgi_granule_convergence=5,\n",
    "         n_golgi_golgi_convergence=100,\n",
    "         n_granule=n_granule,\n",
    "         n_golgi=100,\n",
    "         q=6,\n",
    "         theta=0.4,\n",
    "         data_dir='out/eyeblink', verbose=False, data_format='npz'\n",
    "    )"
   ]
  }
 ],
 "metadata": {
  "kernelspec": {
   "display_name": "Python 3",
   "language": "python",
   "name": "python3"
  },
  "language_info": {
   "codemirror_mode": {
    "name": "ipython",
    "version": 3
   },
   "file_extension": ".py",
   "mimetype": "text/x-python",
   "name": "python",
   "nbconvert_exporter": "python",
   "pygments_lexer": "ipython3",
   "version": "3.9.2"
  }
 },
 "nbformat": 4,
 "nbformat_minor": 4
}
